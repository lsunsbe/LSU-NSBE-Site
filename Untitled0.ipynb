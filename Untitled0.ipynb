{
 "metadata": {
  "name": "",
  "signature": "sha256:edc99fe549a8ab3c2cfbbe5a73aa997c158abd6b434f5caa4d57d00e552b043d"
 },
 "nbformat": 3,
 "nbformat_minor": 0,
 "worksheets": [
  {
   "cells": [
    {
     "cell_type": "code",
     "collapsed": false,
     "input": [
      "import random\n",
      "def flip(num): \n",
      "    result = [0,0]\n",
      "    for x in range(num):\n",
      "        result[random.randint(0,1)] += 1\n",
      "    return result"
     ],
     "language": "python",
     "metadata": {},
     "outputs": [],
     "prompt_number": 20
    },
    {
     "cell_type": "code",
     "collapsed": false,
     "input": [
      "def num_flip_sessions_to_same(flips):\n",
      "    sess = 0\n",
      "    while True:\n",
      "        sim = flip(flips)\n",
      "        sess += 1\n",
      "        if sim[0] == 0 or sim[1] == 0:\n",
      "            return sess\n",
      "        "
     ],
     "language": "python",
     "metadata": {},
     "outputs": [],
     "prompt_number": 16
    },
    {
     "cell_type": "code",
     "collapsed": false,
     "input": [
      "def num_flip_sessions_to_same_revised(flips):\n",
      "    sess = 1\n",
      "    while True:\n",
      "        #Represents first flip\n",
      "        start = random.randint(0,1)\n",
      "        sim = start\n",
      "        inc_flips = 0\n",
      "        while (sim == start):\n",
      "            inc_flips += 1\n",
      "            if inc_flips == flips - 1:\n",
      "                return sess\n",
      "            sim = random.randint(0,1)\n",
      "        sess += 1\n",
      "        "
     ],
     "language": "python",
     "metadata": {},
     "outputs": [],
     "prompt_number": 35
    },
    {
     "cell_type": "code",
     "collapsed": false,
     "input": [
      "num_flip_sessions_to_same_revised(4)"
     ],
     "language": "python",
     "metadata": {},
     "outputs": [
      {
       "metadata": {},
       "output_type": "pyout",
       "prompt_number": 43,
       "text": [
        "1"
       ]
      }
     ],
     "prompt_number": 43
    },
    {
     "cell_type": "code",
     "collapsed": false,
     "input": [],
     "language": "python",
     "metadata": {},
     "outputs": [],
     "prompt_number": 21
    },
    {
     "cell_type": "code",
     "collapsed": false,
     "input": [],
     "language": "python",
     "metadata": {},
     "outputs": []
    }
   ],
   "metadata": {}
  }
 ]
}